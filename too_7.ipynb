{
 "metadata": {
  "name": "",
  "signature": "sha256:59306b3950d595594a1ef5e9c86beaa0801b7da8f519884708815826446301bb"
 },
 "nbformat": 3,
 "nbformat_minor": 0,
 "worksheets": [
  {
   "cells": [
    {
     "cell_type": "heading",
     "level": 1,
     "metadata": {},
     "source": [
      "Uudis "
     ]
    },
    {
     "cell_type": "heading",
     "level": 2,
     "metadata": {},
     "source": [
      "Uudis"
     ]
    },
    {
     "cell_type": "heading",
     "level": 3,
     "metadata": {},
     "source": [
      "Uudis"
     ]
    },
    {
     "cell_type": "code",
     "collapsed": false,
     "input": [
      "a = 9\n",
      "b = 10\n",
      "c = [1,2,3,4]\n",
      "k = {}\n",
      "k.update({\"A\":a,\"B\":b,\"C\":c})\n",
      "print(k)"
     ],
     "language": "python",
     "metadata": {},
     "outputs": [
      {
       "output_type": "stream",
       "stream": "stdout",
       "text": [
        "{'B': 10, 'C': [1, 2, 3, 4], 'A': 9}\n"
       ]
      }
     ],
     "prompt_number": 2
    },
    {
     "cell_type": "code",
     "collapsed": false,
     "input": [
      "a = float(1.25)\n",
      "b = float(3.5)\n",
      "c = a*b\n",
      "d = a*b*c\n",
      "print(d)"
     ],
     "language": "python",
     "metadata": {},
     "outputs": [
      {
       "output_type": "stream",
       "stream": "stdout",
       "text": [
        "19.140625\n"
       ]
      }
     ],
     "prompt_number": 3
    },
    {
     "cell_type": "code",
     "collapsed": false,
     "input": [
      "a = int(1.25)\n",
      "b = int(3.5)\n",
      "c = b//a\n",
      "d = 22%5\n",
      "print(c)\n",
      "print(d)"
     ],
     "language": "python",
     "metadata": {},
     "outputs": [
      {
       "output_type": "stream",
       "stream": "stdout",
       "text": [
        "3\n",
        "2\n"
       ]
      }
     ],
     "prompt_number": 4
    },
    {
     "cell_type": "code",
     "collapsed": false,
     "input": [
      "a = False\n",
      "b != a\n",
      "not(not(b and a))"
     ],
     "language": "python",
     "metadata": {},
     "outputs": [
      {
       "metadata": {},
       "output_type": "pyout",
       "prompt_number": 5,
       "text": [
        "False"
       ]
      }
     ],
     "prompt_number": 5
    },
    {
     "cell_type": "code",
     "collapsed": false,
     "input": [
      "import string\n",
      "a = \"kuuli\"\n",
      "b = \"lennu\"\n",
      "c = \"te\"\n",
      "d = a+b+c\n",
      "print((d+d[::-1]).upper())"
     ],
     "language": "python",
     "metadata": {},
     "outputs": [
      {
       "output_type": "stream",
       "stream": "stdout",
       "text": [
        "KUULILENNUTEETUNNELILUUK\n"
       ]
      }
     ],
     "prompt_number": 6
    },
    {
     "cell_type": "code",
     "collapsed": false,
     "input": [
      "#Kas b on hulga a alamhulk\n",
      "a = {1,2,3,4,5,6}\n",
      "b = {1,2,3}\n",
      "print(b <= a)\n",
      "\n",
      "#\u00dchenda nimekirjad a ja d\n",
      "c = list(a)\n",
      "d = [7,8,9]\n",
      "f = c+d\n",
      "print(f)\n",
      "\n",
      "#\u00dchenda hulgad a ja d\n",
      "k = a|set(d)\n",
      "print(k)"
     ],
     "language": "python",
     "metadata": {},
     "outputs": [
      {
       "output_type": "stream",
       "stream": "stdout",
       "text": [
        "True\n",
        "[1, 2, 3, 4, 5, 6, 7, 8, 9]\n",
        "{1, 2, 3, 4, 5, 6, 7, 8, 9}\n"
       ]
      }
     ],
     "prompt_number": 7
    }
   ],
   "metadata": {}
  }
 ]
}